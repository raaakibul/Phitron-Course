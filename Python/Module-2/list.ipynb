{
 "cells": [
  {
   "cell_type": "code",
   "execution_count": 2,
   "id": "79d49444",
   "metadata": {},
   "outputs": [
    {
     "data": {
      "text/plain": [
       "['Banana', 'Apple', 'Cherry']"
      ]
     },
     "execution_count": 2,
     "metadata": {},
     "output_type": "execute_result"
    }
   ],
   "source": [
    "fruits = ['Banana', 'Apple', 'Cherry']\n",
    "fruits"
   ]
  },
  {
   "cell_type": "code",
   "execution_count": 3,
   "id": "4e3d97ec",
   "metadata": {},
   "outputs": [
    {
     "data": {
      "text/plain": [
       "3"
      ]
     },
     "execution_count": 3,
     "metadata": {},
     "output_type": "execute_result"
    }
   ],
   "source": [
    "len(fruits)"
   ]
  },
  {
   "cell_type": "code",
   "execution_count": 4,
   "id": "d6dafa87",
   "metadata": {},
   "outputs": [
    {
     "data": {
      "text/plain": [
       "('Banana', 'Apple', 'Cherry')"
      ]
     },
     "execution_count": 4,
     "metadata": {},
     "output_type": "execute_result"
    }
   ],
   "source": [
    "fruits[0],fruits[1],fruits[2]"
   ]
  },
  {
   "cell_type": "code",
   "execution_count": 5,
   "id": "177b934b",
   "metadata": {},
   "outputs": [
    {
     "data": {
      "text/plain": [
       "['Banana', 'Apple', 'Cherry']"
      ]
     },
     "execution_count": 5,
     "metadata": {},
     "output_type": "execute_result"
    }
   ],
   "source": [
    "fruits"
   ]
  },
  {
   "cell_type": "code",
   "execution_count": 6,
   "id": "ead36e31",
   "metadata": {},
   "outputs": [],
   "source": [
    "fruits.append('Orange')"
   ]
  },
  {
   "cell_type": "code",
   "execution_count": 7,
   "id": "12ea7e18",
   "metadata": {},
   "outputs": [
    {
     "data": {
      "text/plain": [
       "['Banana', 'Apple', 'Cherry', 'Orange']"
      ]
     },
     "execution_count": 7,
     "metadata": {},
     "output_type": "execute_result"
    }
   ],
   "source": [
    "fruits"
   ]
  },
  {
   "cell_type": "code",
   "execution_count": 8,
   "id": "b40a27ce",
   "metadata": {},
   "outputs": [],
   "source": [
    "fruits.remove(\"Apple\")"
   ]
  },
  {
   "cell_type": "code",
   "execution_count": 9,
   "id": "dcd45d4c",
   "metadata": {},
   "outputs": [
    {
     "data": {
      "text/plain": [
       "['Banana', 'Cherry', 'Orange']"
      ]
     },
     "execution_count": 9,
     "metadata": {},
     "output_type": "execute_result"
    }
   ],
   "source": [
    "fruits"
   ]
  },
  {
   "cell_type": "code",
   "execution_count": 10,
   "id": "ed83167c",
   "metadata": {},
   "outputs": [
    {
     "data": {
      "text/plain": [
       "'Orange'"
      ]
     },
     "execution_count": 10,
     "metadata": {},
     "output_type": "execute_result"
    }
   ],
   "source": [
    "fruits.pop()"
   ]
  },
  {
   "cell_type": "code",
   "execution_count": 11,
   "id": "1f702770",
   "metadata": {},
   "outputs": [
    {
     "data": {
      "text/plain": [
       "['Banana', 'Cherry']"
      ]
     },
     "execution_count": 11,
     "metadata": {},
     "output_type": "execute_result"
    }
   ],
   "source": [
    "fruits"
   ]
  },
  {
   "cell_type": "code",
   "execution_count": 12,
   "id": "55d6f6bf",
   "metadata": {},
   "outputs": [
    {
     "data": {
      "text/plain": [
       "'Cherry'"
      ]
     },
     "execution_count": 12,
     "metadata": {},
     "output_type": "execute_result"
    }
   ],
   "source": [
    "fruits.pop(1)"
   ]
  },
  {
   "cell_type": "code",
   "execution_count": 13,
   "id": "5562ebec",
   "metadata": {},
   "outputs": [
    {
     "data": {
      "text/plain": [
       "['Banana', 'Apple', 'Cherry', 'Orange']"
      ]
     },
     "execution_count": 13,
     "metadata": {},
     "output_type": "execute_result"
    }
   ],
   "source": [
    "fruits = ['Banana', 'Apple', 'Cherry', 'Orange']\n",
    "fruits"
   ]
  },
  {
   "cell_type": "code",
   "execution_count": 15,
   "id": "d74228d0",
   "metadata": {},
   "outputs": [
    {
     "data": {
      "text/plain": [
       "['Apple', 'Banana', 'Cherry', 'Orange']"
      ]
     },
     "execution_count": 15,
     "metadata": {},
     "output_type": "execute_result"
    }
   ],
   "source": [
    "fruits.sort()\n",
    "fruits"
   ]
  },
  {
   "cell_type": "code",
   "execution_count": 16,
   "id": "6206ff1a",
   "metadata": {},
   "outputs": [
    {
     "name": "stdout",
     "output_type": "stream",
     "text": [
      "[1, 2, 3, 'Hello', True]\n"
     ]
    }
   ],
   "source": [
    "# Creating a list\n",
    "my_list = [1, 2, 3, \"Hello\", True]\n",
    "\n",
    "print(my_list)  # [1, 2, 3, 'Hello', True]\n"
   ]
  },
  {
   "cell_type": "code",
   "execution_count": 17,
   "id": "153f70e4",
   "metadata": {},
   "outputs": [],
   "source": [
    "# Empty list\n",
    "empty_list = []"
   ]
  },
  {
   "cell_type": "code",
   "execution_count": 18,
   "id": "66bf55e0",
   "metadata": {},
   "outputs": [
    {
     "data": {
      "text/plain": [
       "[1, 2, 3, 4, 5]"
      ]
     },
     "execution_count": 18,
     "metadata": {},
     "output_type": "execute_result"
    }
   ],
   "source": [
    "# List with integers\n",
    "numbers = [1, 2, 3, 4, 5]\n",
    "numbers"
   ]
  },
  {
   "cell_type": "code",
   "execution_count": 19,
   "id": "2c69ddf5",
   "metadata": {},
   "outputs": [
    {
     "data": {
      "text/plain": [
       "[10, 'Python', 3.14, False]"
      ]
     },
     "execution_count": 19,
     "metadata": {},
     "output_type": "execute_result"
    }
   ],
   "source": [
    "# List with mixed data\n",
    "mixed = [10, \"Python\", 3.14, False]\n",
    "mixed"
   ]
  },
  {
   "cell_type": "code",
   "execution_count": 21,
   "id": "fc698541",
   "metadata": {},
   "outputs": [
    {
     "data": {
      "text/plain": [
       "[1, 2, 3]"
      ]
     },
     "execution_count": 21,
     "metadata": {},
     "output_type": "execute_result"
    }
   ],
   "source": [
    "# Using list() constructor\n",
    "from_constructor = list((1, 2, 3))\n",
    "from_constructor"
   ]
  },
  {
   "cell_type": "code",
   "execution_count": 22,
   "id": "107a0769",
   "metadata": {},
   "outputs": [
    {
     "name": "stdout",
     "output_type": "stream",
     "text": [
      "apple\n"
     ]
    }
   ],
   "source": [
    "fruits = [\"apple\", \"banana\", \"cherry\"]\n",
    "\n",
    "print(fruits[0])   # 'apple'"
   ]
  },
  {
   "cell_type": "code",
   "execution_count": 23,
   "id": "890e9da7",
   "metadata": {},
   "outputs": [
    {
     "name": "stdout",
     "output_type": "stream",
     "text": [
      "cherry\n"
     ]
    }
   ],
   "source": [
    "# Negative indexing (starts from the end)\n",
    "print(fruits[-1])  # 'cherry'"
   ]
  },
  {
   "cell_type": "code",
   "execution_count": 24,
   "id": "22895370",
   "metadata": {},
   "outputs": [
    {
     "name": "stdout",
     "output_type": "stream",
     "text": [
      "banana\n"
     ]
    }
   ],
   "source": [
    "print(fruits[-2])  # 'banana'"
   ]
  },
  {
   "cell_type": "code",
   "execution_count": 25,
   "id": "1e856ede",
   "metadata": {},
   "outputs": [
    {
     "name": "stdout",
     "output_type": "stream",
     "text": [
      "True\n",
      "2\n",
      "1\n"
     ]
    }
   ],
   "source": [
    "colors = [\"red\", \"green\", \"blue\"]\n",
    "\n",
    "print(\"green\" in colors)   # True\n",
    "print(colors.index(\"blue\")) # 2\n",
    "print(colors.count(\"red\"))  # 1\n"
   ]
  },
  {
   "cell_type": "code",
   "execution_count": 26,
   "id": "0c95f535",
   "metadata": {},
   "outputs": [
    {
     "name": "stdout",
     "output_type": "stream",
     "text": [
      "[1, 3, 4, 2]\n",
      "[1, 4, 2]\n",
      "[]\n"
     ]
    }
   ],
   "source": [
    "nums = [1, 2, 3, 4, 2]\n",
    "\n",
    "nums.remove(2)  # removes first occurrence of 2\n",
    "print(nums)     # [1, 3, 4, 2]\n",
    "\n",
    "nums.pop(1)     # removes index 1\n",
    "print(nums)     # [1, 4, 2]\n",
    "\n",
    "nums.clear()    # removes all items\n",
    "print(nums)     # []\n"
   ]
  },
  {
   "cell_type": "code",
   "execution_count": 27,
   "id": "db59c468",
   "metadata": {},
   "outputs": [
    {
     "name": "stdout",
     "output_type": "stream",
     "text": [
      "['cat', 'dog', 'elephant']\n",
      "['cat', 'lion', 'dog', 'elephant']\n",
      "['cat', 'lion', 'dog', 'elephant', 'zebra', 'monkey']\n"
     ]
    }
   ],
   "source": [
    "# append() → add to the end\n",
    "animals = [\"cat\", \"dog\"]\n",
    "animals.append(\"elephant\")\n",
    "print(animals)  # ['cat', 'dog', 'elephant']\n",
    "\n",
    "# insert() → add at specific index\n",
    "animals.insert(1, \"lion\")\n",
    "print(animals)  # ['cat', 'lion', 'dog', 'elephant']\n",
    "\n",
    "# extend() → add another list\n",
    "animals.extend([\"zebra\", \"monkey\"])\n",
    "print(animals)\n"
   ]
  },
  {
   "cell_type": "code",
   "execution_count": 28,
   "id": "16b8284e",
   "metadata": {},
   "outputs": [
    {
     "name": "stdout",
     "output_type": "stream",
     "text": [
      "[1, 3, 4, 2]\n",
      "[1, 4, 2]\n",
      "[]\n"
     ]
    }
   ],
   "source": [
    "nums = [1, 2, 3, 4, 2]\n",
    "\n",
    "nums.remove(2)  # removes first occurrence of 2\n",
    "print(nums)     # [1, 3, 4, 2]\n",
    "\n",
    "nums.pop(1)     # removes index 1\n",
    "print(nums)     # [1, 4, 2]\n",
    "\n",
    "nums.clear()    # removes all items\n",
    "print(nums)     # []\n"
   ]
  },
  {
   "cell_type": "code",
   "execution_count": 29,
   "id": "331b2c03",
   "metadata": {},
   "outputs": [
    {
     "name": "stdout",
     "output_type": "stream",
     "text": [
      "[1, 1, 3, 4, 5]\n",
      "[5, 4, 3, 1, 1]\n",
      "[1, 1, 3, 4, 5]\n"
     ]
    }
   ],
   "source": [
    "nums = [3, 1, 4, 1, 5]\n",
    "\n",
    "nums.sort()      # in-place sorting\n",
    "print(nums)      # [1, 1, 3, 4, 5]\n",
    "\n",
    "nums.sort(reverse=True)  # descending order\n",
    "print(nums)\n",
    "\n",
    "nums.reverse()   # reverse order (not sorted)\n",
    "print(nums)\n"
   ]
  },
  {
   "cell_type": "code",
   "execution_count": 30,
   "id": "fac107f5",
   "metadata": {},
   "outputs": [
    {
     "name": "stdout",
     "output_type": "stream",
     "text": [
      "[0, 1, 4, 9, 16, 25]\n",
      "[0, 4, 16]\n"
     ]
    }
   ],
   "source": [
    "# Create a list of squares\n",
    "squares = [x**2 for x in range(6)]\n",
    "print(squares)  \n",
    "\n",
    "# With condition\n",
    "even_squares = [x**2 for x in range(6) if x % 2 == 0]\n",
    "print(even_squares)\n"
   ]
  },
  {
   "cell_type": "code",
   "execution_count": 31,
   "id": "58aa9e8f",
   "metadata": {},
   "outputs": [
    {
     "name": "stdout",
     "output_type": "stream",
     "text": [
      "['10', '20', '30', '40']\n"
     ]
    }
   ],
   "source": [
    "# Taking input and splitting into strings\n",
    "user_input = input(\"Enter numbers separated by space: \").split()\n",
    "\n",
    "print(user_input)   # ['10', '20', '30', '40']"
   ]
  },
  {
   "cell_type": "code",
   "execution_count": 32,
   "id": "01a9947b",
   "metadata": {},
   "outputs": [
    {
     "name": "stdout",
     "output_type": "stream",
     "text": [
      "[10, 20, 30, 40]\n"
     ]
    }
   ],
   "source": [
    "numbers = list(map(int, input(\"Enter numbers separated by space: \").split()))\n",
    "\n",
    "print(numbers)  # [10, 20, 30, 40]"
   ]
  },
  {
   "cell_type": "code",
   "execution_count": 33,
   "id": "4845dc0e",
   "metadata": {},
   "outputs": [
    {
     "name": "stdout",
     "output_type": "stream",
     "text": [
      "['apple', 'banana', 'cherry']\n"
     ]
    }
   ],
   "source": [
    "words = input(\"Enter words separated by space: \").split()\n",
    "\n",
    "print(words)  # Example: ['apple', 'banana', 'cherry']"
   ]
  },
  {
   "cell_type": "code",
   "execution_count": null,
   "id": "2a436f47",
   "metadata": {},
   "outputs": [],
   "source": [
    "items = input(\"Enter items separated by commas: \").split(',')\n",
    "\n",
    "print(items)  # ['apple', 'banana', 'cherry']"
   ]
  }
 ],
 "metadata": {
  "kernelspec": {
   "display_name": "Python 3",
   "language": "python",
   "name": "python3"
  },
  "language_info": {
   "codemirror_mode": {
    "name": "ipython",
    "version": 3
   },
   "file_extension": ".py",
   "mimetype": "text/x-python",
   "name": "python",
   "nbconvert_exporter": "python",
   "pygments_lexer": "ipython3",
   "version": "3.13.0"
  }
 },
 "nbformat": 4,
 "nbformat_minor": 5
}
