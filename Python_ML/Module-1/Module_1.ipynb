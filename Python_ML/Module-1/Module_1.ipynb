{
 "cells": [
  {
   "cell_type": "markdown",
   "id": "f18536e1",
   "metadata": {},
   "source": [
    "## Variables and Data Type\n"
   ]
  },
  {
   "cell_type": "code",
   "execution_count": 15,
   "id": "4492f29d",
   "metadata": {},
   "outputs": [
    {
     "name": "stdout",
     "output_type": "stream",
     "text": [
      "456249\n"
     ]
    }
   ],
   "source": [
    "phone_number = 456249 \n",
    "\n",
    "print(phone_number)"
   ]
  },
  {
   "cell_type": "code",
   "execution_count": 16,
   "id": "b53ebf75",
   "metadata": {},
   "outputs": [
    {
     "name": "stdout",
     "output_type": "stream",
     "text": [
      "Phitron\n"
     ]
    }
   ],
   "source": [
    "name = \"Phitron\"\n",
    "\n",
    "print(name)"
   ]
  },
  {
   "cell_type": "code",
   "execution_count": 17,
   "id": "0c984324",
   "metadata": {},
   "outputs": [
    {
     "name": "stdout",
     "output_type": "stream",
     "text": [
      "<class 'int'> <class 'float'> <class 'str'> <class 'bool'>\n",
      "<class 'float'>\n"
     ]
    }
   ],
   "source": [
    "age = 20 \n",
    "height = 5.6 \n",
    "name = \"Akash\"\n",
    "is_passed = True\n",
    "\n",
    "print(type(age), type(height), type(name),type(is_passed))\n",
    "\n",
    "age = 20.5 \n",
    "\n",
    "print(type(age))\n"
   ]
  },
  {
   "cell_type": "markdown",
   "id": "92566406",
   "metadata": {},
   "source": [
    "## Taking Input in Python"
   ]
  },
  {
   "cell_type": "code",
   "execution_count": 18,
   "id": "3a4c4aba",
   "metadata": {},
   "outputs": [
    {
     "name": "stdout",
     "output_type": "stream",
     "text": [
      "\n"
     ]
    }
   ],
   "source": [
    "name = input(\"What is your name? \")\n",
    "\n",
    "print(name)"
   ]
  },
  {
   "cell_type": "code",
   "execution_count": 19,
   "id": "c83071b0",
   "metadata": {},
   "outputs": [
    {
     "name": "stdout",
     "output_type": "stream",
     "text": [
      " <class 'str'>\n"
     ]
    }
   ],
   "source": [
    "age = input(\"Age ?\")\n",
    "\n",
    "print(age , type(age))"
   ]
  },
  {
   "cell_type": "code",
   "execution_count": 67,
   "id": "8123c88c",
   "metadata": {},
   "outputs": [
    {
     "name": "stdout",
     "output_type": "stream",
     "text": [
      "29 <class 'int'>\n"
     ]
    }
   ],
   "source": [
    "age = input(\"Age ?\") # string hishebe input nise \n",
    "\n",
    "age = int(age) # string k amra int a convert korlam\n",
    "\n",
    "print(age , type(age))"
   ]
  },
  {
   "cell_type": "code",
   "execution_count": 70,
   "id": "ebea925f",
   "metadata": {},
   "outputs": [
    {
     "name": "stdout",
     "output_type": "stream",
     "text": [
      "203.4 <class 'str'>\n"
     ]
    }
   ],
   "source": [
    "height = input(\"Height ?\")\n",
    "\n",
    "print(height , type(height))\n"
   ]
  },
  {
   "cell_type": "code",
   "execution_count": 22,
   "id": "027e36fb",
   "metadata": {},
   "outputs": [
    {
     "name": "stdout",
     "output_type": "stream",
     "text": [
      "20.6 <class 'float'>\n",
      "20.8\n"
     ]
    }
   ],
   "source": [
    "height = float(input(\"Height ?\")) # string \n",
    "\n",
    "\n",
    "\n",
    "print(height , type(height))\n",
    "\n",
    "\n",
    "height = height +0.2\n",
    "\n",
    "print(height)\n"
   ]
  },
  {
   "cell_type": "markdown",
   "id": "1b51979b",
   "metadata": {},
   "source": [
    "## Operators in Python"
   ]
  },
  {
   "cell_type": "code",
   "execution_count": 32,
   "id": "3d30493c",
   "metadata": {},
   "outputs": [
    {
     "name": "stdout",
     "output_type": "stream",
     "text": [
      "13 7 30 3.33 1\n"
     ]
    }
   ],
   "source": [
    "x = 10 ; y = 3 \n",
    "\n",
    "sum = x + y # summation \n",
    "sub = x - y # subtraction\n",
    "mult = x * y # multiplication\n",
    "div = round(x / y , 2) # division \n",
    "\n",
    "rem = x % y # remainder \n",
    "\n",
    "print(sum , sub , mult, div , rem)"
   ]
  },
  {
   "cell_type": "code",
   "execution_count": 42,
   "id": "1dde4cc1",
   "metadata": {},
   "outputs": [
    {
     "name": "stdout",
     "output_type": "stream",
     "text": [
      "True True\n",
      "False True\n",
      "False\n",
      "True\n"
     ]
    }
   ],
   "source": [
    "x = 10 ; y = 3 \n",
    "\n",
    "greater_than = x > y \n",
    "\n",
    "greater_than_equal = (10 >= 10)\n",
    "\n",
    "print(greater_than , greater_than_equal)\n",
    "\n",
    "\n",
    "less_than = x < y \n",
    "\n",
    "less_than_equal = (10 <= 10)\n",
    "\n",
    "print(less_than , less_than_equal)\n",
    "\n",
    "\n",
    "\n",
    "equal =  x==y\n",
    "\n",
    "print(equal)\n",
    "\n",
    "\n",
    "not_equal = x != y\n",
    "\n",
    "print(not_equal)\n"
   ]
  },
  {
   "cell_type": "markdown",
   "id": "898f5db8",
   "metadata": {},
   "source": [
    "## Logical Operator \n"
   ]
  },
  {
   "cell_type": "code",
   "execution_count": 61,
   "id": "6776f12a",
   "metadata": {},
   "outputs": [
    {
     "name": "stdout",
     "output_type": "stream",
     "text": [
      "True\n"
     ]
    }
   ],
   "source": [
    "x = 10 ; y = 5 ; z = 3 \n",
    "\n",
    "result = (x > y) and (x > z) \n",
    "\n",
    "\n",
    "print(result)"
   ]
  },
  {
   "cell_type": "code",
   "execution_count": 62,
   "id": "b217f280",
   "metadata": {},
   "outputs": [
    {
     "name": "stdout",
     "output_type": "stream",
     "text": [
      "False\n"
     ]
    }
   ],
   "source": [
    "x = 10 ; y = 5 ; z = 15\n",
    "\n",
    "result = (x > y) and (x > z) \n",
    "\n",
    "\n",
    "print(result)"
   ]
  },
  {
   "cell_type": "code",
   "execution_count": 63,
   "id": "65047b60",
   "metadata": {},
   "outputs": [
    {
     "name": "stdout",
     "output_type": "stream",
     "text": [
      "True\n"
     ]
    }
   ],
   "source": [
    "x = 10 ; y = 5 ; z = 15\n",
    "\n",
    "result = (x > y) or (x > z) \n",
    "\n",
    "\n",
    "print(result)"
   ]
  },
  {
   "cell_type": "code",
   "execution_count": 64,
   "id": "e61ce3ac",
   "metadata": {},
   "outputs": [
    {
     "name": "stdout",
     "output_type": "stream",
     "text": [
      "False\n"
     ]
    }
   ],
   "source": [
    "x = 10 ; y = 20 ; z = 15\n",
    "\n",
    "result = (x > y) or (x > z) \n",
    "\n",
    "\n",
    "print(result)"
   ]
  },
  {
   "cell_type": "code",
   "execution_count": null,
   "id": "ba67cf2d",
   "metadata": {},
   "outputs": [],
   "source": []
  },
  {
   "cell_type": "markdown",
   "id": "460e0ef8",
   "metadata": {},
   "source": [
    "## Precedence and Associativity\n"
   ]
  },
  {
   "cell_type": "code",
   "execution_count": 71,
   "id": "05dc5202",
   "metadata": {},
   "outputs": [
    {
     "name": "stdout",
     "output_type": "stream",
     "text": [
      "5.0\n",
      "0.0\n"
     ]
    }
   ],
   "source": [
    "eq = 10 + 10/2 - 5*2 # precedency maintain korbe\n",
    "print(eq)\n",
    "\n",
    "eq = (10+10)/2 - 5*2 ## ekhane bracket e part tuku ageh compute hobe \n",
    "\n",
    "print(eq)\n"
   ]
  },
  {
   "cell_type": "markdown",
   "id": "84dc34ad",
   "metadata": {},
   "source": [
    "## Problem : Digit Summation "
   ]
  },
  {
   "cell_type": "code",
   "execution_count": null,
   "id": "d8a857ee",
   "metadata": {},
   "outputs": [
    {
     "name": "stdout",
     "output_type": "stream",
     "text": [
      "5\n"
     ]
    }
   ],
   "source": [
    "inp = input()\n",
    "\n",
    "numbers = inp.split()\n",
    "\n",
    "x = int(numbers[0]) # 13\n",
    "\n",
    "y = int(numbers[1]) # 12 \n",
    "\n",
    "last_digit_of_x = x % 10 \n",
    "last_digit_of_y = y % 10 \n",
    "\n",
    "sum = last_digit_of_x + last_digit_of_y \n",
    "\n",
    "print(sum)\n",
    "\n"
   ]
  }
 ],
 "metadata": {
  "kernelspec": {
   "display_name": "Python 3",
   "language": "python",
   "name": "python3"
  },
  "language_info": {
   "codemirror_mode": {
    "name": "ipython",
    "version": 3
   },
   "file_extension": ".py",
   "mimetype": "text/x-python",
   "name": "python",
   "nbconvert_exporter": "python",
   "pygments_lexer": "ipython3",
   "version": "3.13.7"
  }
 },
 "nbformat": 4,
 "nbformat_minor": 5
}
